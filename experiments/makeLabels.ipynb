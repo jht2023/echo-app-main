{
 "cells": [
  {
   "cell_type": "code",
   "execution_count": 2,
   "metadata": {},
   "outputs": [],
   "source": [
    "import os\n",
    "import cv2\n",
    "import xml.etree.ElementTree as ET"
   ]
  },
  {
   "attachments": {},
   "cell_type": "markdown",
   "metadata": {},
   "source": [
    "## Convert VOC label(.xml) to YOLO Farmat(.txt)"
   ]
  },
  {
   "cell_type": "code",
   "execution_count": 3,
   "metadata": {},
   "outputs": [],
   "source": [
    "annotation_path = r'E:\\datalong\\annotations\\alpha\\detect\\raw\\annotations'\n",
    "label_path = r'E:\\datalong\\annotations\\alpha\\detect\\raw\\labels'\n",
    "image_path = r'E:\\datalong\\annotations\\alpha\\detect\\raw\\images'\n",
    "os.makedirs(label_path, exist_ok=True)"
   ]
  },
  {
   "cell_type": "code",
   "execution_count": 4,
   "metadata": {},
   "outputs": [],
   "source": [
    "classes = ['long']"
   ]
  },
  {
   "cell_type": "code",
   "execution_count": 5,
   "metadata": {},
   "outputs": [],
   "source": [
    "def convert(size, box):\n",
    "    dw = 1./(size[0])\n",
    "    dh = 1./(size[1])\n",
    "    x = (box[0] + box[1])/2.0\n",
    "    y = (box[2] + box[3])/2.0\n",
    "    w = box[1] - box[0]\n",
    "    h = box[3] - box[2]\n",
    "    x = x*dw\n",
    "    w = w*dw\n",
    "    y = y*dh\n",
    "    h = h*dh\n",
    "    return (x,y,w,h)"
   ]
  },
  {
   "cell_type": "code",
   "execution_count": 6,
   "metadata": {},
   "outputs": [],
   "source": [
    "for xml in os.listdir(annotation_path):\n",
    "    xml_file = os.path.join(annotation_path, xml)\n",
    "    tree = ET.parse(xml_file)\n",
    "    root = tree.getroot()\n",
    "    \n",
    "    img_name = root.find(\".//filename\").text\n",
    "\n",
    "    img = cv2.imread(os.path.join(image_path, img_name))\n",
    "    img_height, img_width = img.shape[:2]\n",
    "\n",
    "    file_name = os.path.splitext(img_name)[0]\n",
    "    \n",
    "    with open(os.path.join(label_path, file_name) + '.txt', 'w') as f:\n",
    "        for obj in root.iter('object'):\n",
    "            cls = obj.find('name').text  # 'long' or 'short'\n",
    "            cls_id = classes.index(cls)\n",
    "            xmlbox = obj.find('bndbox')\n",
    "            b = (float(xmlbox.find('xmin').text), float(xmlbox.find('xmax').text), float(xmlbox.find('ymin').text), float(xmlbox.find('ymax').text))\n",
    "            bb = convert((img_width, img_height), b)\n",
    "            f.write(str(cls_id) + ' ' + ' '.join([str(a) for a in bb]) + '\\n')\n",
    "\n",
    "    "
   ]
  },
  {
   "cell_type": "code",
   "execution_count": null,
   "metadata": {},
   "outputs": [],
   "source": []
  }
 ],
 "metadata": {
  "kernelspec": {
   "display_name": "yolov5",
   "language": "python",
   "name": "python3"
  },
  "language_info": {
   "codemirror_mode": {
    "name": "ipython",
    "version": 3
   },
   "file_extension": ".py",
   "mimetype": "text/x-python",
   "name": "python",
   "nbconvert_exporter": "python",
   "pygments_lexer": "ipython3",
   "version": "3.7.15"
  },
  "orig_nbformat": 4,
  "vscode": {
   "interpreter": {
    "hash": "e6ac1ffc5c42ce380fc46c202ba589fbd6008411b51af57d9b2a7f47718bd230"
   }
  }
 },
 "nbformat": 4,
 "nbformat_minor": 2
}
