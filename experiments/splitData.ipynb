{
 "cells": [
  {
   "cell_type": "code",
   "execution_count": 2,
   "metadata": {},
   "outputs": [],
   "source": [
    "import os\n",
    "import random\n",
    "import shutil"
   ]
  },
  {
   "attachments": {},
   "cell_type": "markdown",
   "metadata": {},
   "source": [
    "## Count the number of people in the dataset"
   ]
  },
  {
   "cell_type": "code",
   "execution_count": 3,
   "metadata": {},
   "outputs": [
    {
     "name": "stdout",
     "output_type": "stream",
     "text": [
      "Num. of people in dataset:  11\n",
      "Names:  ['kabata', 'sugino', 'nishida', 'fukushima', 'orihara', 'yoshisue', 'matsuyama', 'kawabata', 'funatsu', 'mori', 'kitagawa']\n"
     ]
    }
   ],
   "source": [
    "folder_path = r'E:\\datalong\\annotations\\alpha\\detect\\raw\\images'\n",
    "\n",
    "name_list = []\n",
    "for file in os.listdir(folder_path):\n",
    "    name = file.split(\"_\")[1]  # file name should be like: 'time'_'name'_'...'\n",
    "    if name not in name_list:\n",
    "        name_list.append(name)\n",
    "\n",
    "print('Num. of people in dataset: ', len(name_list))\n",
    "print('Names: ', name_list)"
   ]
  },
  {
   "attachments": {},
   "cell_type": "markdown",
   "metadata": {},
   "source": [
    "## Split dataset with names"
   ]
  },
  {
   "attachments": {},
   "cell_type": "markdown",
   "metadata": {},
   "source": [
    "### random select "
   ]
  },
  {
   "cell_type": "code",
   "execution_count": 4,
   "metadata": {},
   "outputs": [],
   "source": [
    "target_path = r'E:\\datalong\\annotations\\alpha\\detect\\splitName\\exp1'\n",
    "for i in ['train', 'val', 'test']:\n",
    "    path = os.path.join(target_path, i)\n",
    "    os.makedirs(path, exist_ok=True)\n",
    "    for j in ['images', 'labels']:\n",
    "        path2 = os.path.join(path, j)\n",
    "        os.makedirs(path2, exist_ok=True)"
   ]
  },
  {
   "cell_type": "code",
   "execution_count": 5,
   "metadata": {},
   "outputs": [],
   "source": [
    "split_num_list = [8, 3, 0]  # train, val, test(optional)\n",
    "assert sum(split_num_list) == len(name_list)\n",
    "random.shuffle(name_list)"
   ]
  },
  {
   "cell_type": "code",
   "execution_count": 7,
   "metadata": {},
   "outputs": [],
   "source": [
    "split_names = {}\n",
    "split_names['train'] = name_list[:split_num_list[0]]\n",
    "split_names['val'] = name_list[split_num_list[0]: split_num_list[0]+split_num_list[1]]\n",
    "if sum(split_num_list[:2]) == len(name_list):\n",
    "    split_names['test'] = [] # no test\n",
    "else:\n",
    "    split_names['test'] = name_list[-split_num_list[-1]: ]"
   ]
  },
  {
   "cell_type": "code",
   "execution_count": 8,
   "metadata": {},
   "outputs": [
    {
     "data": {
      "text/plain": "{'train': ['orihara',\n  'funatsu',\n  'kitagawa',\n  'yoshisue',\n  'mori',\n  'nishida',\n  'matsuyama',\n  'sugino'],\n 'val': ['fukushima', 'kawabata', 'kabata'],\n 'test': []}"
     },
     "execution_count": 8,
     "metadata": {},
     "output_type": "execute_result"
    }
   ],
   "source": [
    "split_names"
   ]
  },
  {
   "cell_type": "code",
   "execution_count": 9,
   "metadata": {},
   "outputs": [],
   "source": [
    "reversed_dict = {}\n",
    "for k, v in split_names.items():\n",
    "    for name in v:\n",
    "        reversed_dict[name] = k"
   ]
  },
  {
   "cell_type": "code",
   "execution_count": 10,
   "metadata": {},
   "outputs": [
    {
     "data": {
      "text/plain": "{'orihara': 'train',\n 'funatsu': 'train',\n 'kitagawa': 'train',\n 'yoshisue': 'train',\n 'mori': 'train',\n 'nishida': 'train',\n 'matsuyama': 'train',\n 'sugino': 'train',\n 'fukushima': 'val',\n 'kawabata': 'val',\n 'kabata': 'val'}"
     },
     "execution_count": 10,
     "metadata": {},
     "output_type": "execute_result"
    }
   ],
   "source": [
    "reversed_dict"
   ]
  },
  {
   "cell_type": "code",
   "execution_count": 11,
   "metadata": {},
   "outputs": [],
   "source": [
    "parent_folder_path = os.path.abspath(os.path.join(folder_path, os.pardir))\n",
    "images_path = os.path.join(parent_folder_path, 'images')\n",
    "labels_path = os.path.join(parent_folder_path, 'labels')"
   ]
  },
  {
   "cell_type": "code",
   "execution_count": 12,
   "metadata": {},
   "outputs": [],
   "source": [
    "for img in os.listdir(images_path):\n",
    "    file_name = os.path.splitext(img)[0]\n",
    "    img_path = os.path.join(images_path, img)\n",
    "    label_path = os.path.join(labels_path, file_name + '.txt')\n",
    "    split_class = reversed_dict[img.split('_')[1]]\n",
    "    target_img_path = os.path.join(target_path, split_class, 'images', img)\n",
    "    target_label_path = os.path.join(target_path, split_class, 'labels', file_name + '.txt')\n",
    "    shutil.copy2(img_path, target_img_path)\n",
    "    shutil.copy2(label_path, target_label_path)"
   ]
  },
  {
   "attachments": {},
   "cell_type": "markdown",
   "metadata": {},
   "source": [
    "### specify names "
   ]
  }
 ],
 "metadata": {
  "kernelspec": {
   "display_name": "yolov5",
   "language": "python",
   "name": "python3"
  },
  "language_info": {
   "codemirror_mode": {
    "name": "ipython",
    "version": 3
   },
   "file_extension": ".py",
   "mimetype": "text/x-python",
   "name": "python",
   "nbconvert_exporter": "python",
   "pygments_lexer": "ipython3",
   "version": "3.7.15"
  },
  "orig_nbformat": 4,
  "vscode": {
   "interpreter": {
    "hash": "e6ac1ffc5c42ce380fc46c202ba589fbd6008411b51af57d9b2a7f47718bd230"
   }
  }
 },
 "nbformat": 4,
 "nbformat_minor": 2
}
