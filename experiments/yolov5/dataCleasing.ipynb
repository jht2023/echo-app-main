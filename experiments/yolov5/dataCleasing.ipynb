{
 "cells": [
  {
   "cell_type": "code",
   "execution_count": 8,
   "metadata": {},
   "outputs": [],
   "source": [
    "import os \n",
    "from lxml import etree\n",
    "import shutil\n",
    "\n"
   ]
  },
  {
   "cell_type": "code",
   "execution_count": 9,
   "metadata": {},
   "outputs": [],
   "source": [
    "dataset_path = '/mnt/test_li/jst/datasets/largeIntestine'\n",
    "annotation_path = os.path.join(dataset_path, 'raw', 'Annotations')\n",
    "image_path = os.path.join(dataset_path, 'raw', 'JPEGImages')\n",
    "trash_annotation = os.path.join(dataset_path, 'trash', 'annotations')\n",
    "trash_image = os.path.join(dataset_path, 'trash', 'images')"
   ]
  },
  {
   "attachments": {},
   "cell_type": "markdown",
   "metadata": {},
   "source": [
    "## Check object number (supposed to be <= 1)"
   ]
  },
  {
   "cell_type": "code",
   "execution_count": 10,
   "metadata": {},
   "outputs": [
    {
     "name": "stdout",
     "output_type": "stream",
     "text": [
      "bbox num: 2, file name: 20201105_kabata_long.mp4#t=17.458333.jpg\n",
      "bbox num: 4, file name: 20201105_kabata_long.mp4#t=0.125.jpg\n"
     ]
    }
   ],
   "source": [
    "for xml in os.listdir(annotation_path):\n",
    "    xml_path = os.path.join(annotation_path, xml)\n",
    "    tree = etree.parse(xml_path)\n",
    "    root = tree.getroot()\n",
    "    bbox_n = len(root.xpath('//bndbox'))\n",
    "    if bbox_n > 1:\n",
    "        img_name = root.find(\".//filename\").text\n",
    "        print(f'bbox num: {bbox_n}, file name: {img_name}')\n",
    "        # move annotation & image to trash folder\n",
    "        shutil.move(xml_path, os.path.join(trash_annotation, xml))\n",
    "        shutil.move(os.path.join(image_path, img_name), os.path.join(trash_image, img_name))\n"
   ]
  }
 ],
 "metadata": {
  "kernelspec": {
   "display_name": "yolov5",
   "language": "python",
   "name": "python3"
  },
  "language_info": {
   "codemirror_mode": {
    "name": "ipython",
    "version": 3
   },
   "file_extension": ".py",
   "mimetype": "text/x-python",
   "name": "python",
   "nbconvert_exporter": "python",
   "pygments_lexer": "ipython3",
   "version": "3.7.15"
  },
  "orig_nbformat": 4,
  "vscode": {
   "interpreter": {
    "hash": "e6ac1ffc5c42ce380fc46c202ba589fbd6008411b51af57d9b2a7f47718bd230"
   }
  }
 },
 "nbformat": 4,
 "nbformat_minor": 2
}
